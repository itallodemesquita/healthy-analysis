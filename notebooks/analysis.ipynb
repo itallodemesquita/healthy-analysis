{
 "cells": [
  {
   "cell_type": "markdown",
   "id": "2ef6e252",
   "metadata": {},
   "source": [
    "## Importando e verificando dataset"
   ]
  },
  {
   "cell_type": "code",
   "execution_count": null,
   "id": "42a03e52",
   "metadata": {},
   "outputs": [],
   "source": [
    "# Importando bibliotecas\n",
    "import pandas as pd\n",
    "import numpy as np\n",
    "\n",
    "print(\"Bibliotecas importadas com sucesso!\")"
   ]
  },
  {
   "cell_type": "code",
   "execution_count": null,
   "id": "8b386178",
   "metadata": {},
   "outputs": [],
   "source": [
    "# Carregando o dataset\n",
    "df = pd.read_csv('pacientes.csv')\n",
    "\n",
    "# Exibindo o head do dataset\n",
    "df.head()"
   ]
  },
  {
   "cell_type": "code",
   "execution_count": null,
   "id": "5260512d",
   "metadata": {},
   "outputs": [],
   "source": [
    "# Verificação geral do dataset\n",
    "df.info()"
   ]
  },
  {
   "cell_type": "code",
   "execution_count": null,
   "id": "9d0f519b",
   "metadata": {},
   "outputs": [],
   "source": [
    "# Contando valores faltantes em cada coluna\n",
    "df.isnull().sum()"
   ]
  },
  {
   "cell_type": "markdown",
   "id": "ea22b676",
   "metadata": {},
   "source": [
    "## Limpeza de dados do dataset\n",
    "* Preencher valores faltantes de idade com o valor médio\n",
    "* Preencher Escore Motor com valor da mediana"
   ]
  },
  {
   "cell_type": "code",
   "execution_count": null,
   "id": "75457287",
   "metadata": {},
   "outputs": [],
   "source": [
    "# Calculando média das idades e a mediana do escore\n",
    "media_idade = df['idade'].mean()\n",
    "mediana_escore = df['escore_motor_updrs'].median()\n",
    "\n",
    "print(f\"Média das idades: {media_idade:.2f}\")\n",
    "print(f\"Mediana dos escores: {mediana_escore:.2f}\")"
   ]
  },
  {
   "cell_type": "code",
   "execution_count": null,
   "id": "fe61e35f",
   "metadata": {},
   "outputs": [],
   "source": [
    "# Preencher os valores faltantes\n",
    "df['idade'].fillna(media_idade, inplace=True)\n",
    "df['escore_motor_updrs'].fillna(mediana_escore, inplace=True)\n",
    "\n",
    "# Verificar se ainda há valores nulos\n",
    "df.isnull().sum()"
   ]
  },
  {
   "cell_type": "markdown",
   "id": "a6e83aca",
   "metadata": {},
   "source": [
    "## Criar coluna que separa pacientes por faixa etária"
   ]
  },
  {
   "cell_type": "code",
   "execution_count": null,
   "id": "47ac361b",
   "metadata": {},
   "outputs": [],
   "source": [
    "# Definindo etiquetas de faixa etária\n",
    "bins = [0, 50, 70, float('inf')]\n",
    "labels = ['Jovem', 'Adulto', 'Idoso']\n",
    "\n",
    "# Criando nova coluna\n",
    "df['faixa_etaria'] = pd.cut(df['idade'], bins=bins, labels=labels, right=False)\n",
    "\n",
    "# Verificando coluna criada\n",
    "df['faixa_etaria'].value_counts()"
   ]
  },
  {
   "cell_type": "markdown",
   "id": "86ff0fe0",
   "metadata": {},
   "source": [
    "## Filtragem de dados"
   ]
  },
  {
   "cell_type": "code",
   "execution_count": null,
   "id": "32295571",
   "metadata": {},
   "outputs": [],
   "source": [
    "# Filtro para selecionar conjunto desejado\n",
    "df_filtrado = df[(df['sexo'] == 'Feminino') & (df['tempo_diagnostico_meses'] > 24)]\n",
    "\n",
    "# Vendo as primeiras linhas do resultado\n",
    "df_filtrado.head()"
   ]
  },
  {
   "cell_type": "markdown",
   "id": "556dd627",
   "metadata": {},
   "source": [
    "## Gerar novo dataframe "
   ]
  },
  {
   "cell_type": "code",
   "execution_count": null,
   "id": "a4b000d4",
   "metadata": {},
   "outputs": [],
   "source": [
    "# Criando novo arquivo CSV\n",
    "df_filtrado.to_csv('pacientes_filtrado.csv', index=False)\n",
    "\n",
    "print(\"Arquivo salvo com sucesso!\")"
   ]
  }
 ],
 "metadata": {
  "kernelspec": {
   "display_name": "healthy-analysis",
   "language": "python",
   "name": "python3"
  },
  "language_info": {
   "codemirror_mode": {
    "name": "ipython",
    "version": 3
   },
   "file_extension": ".py",
   "mimetype": "text/x-python",
   "name": "python",
   "nbconvert_exporter": "python",
   "pygments_lexer": "ipython3",
   "version": "3.10.18"
  }
 },
 "nbformat": 4,
 "nbformat_minor": 5
}
